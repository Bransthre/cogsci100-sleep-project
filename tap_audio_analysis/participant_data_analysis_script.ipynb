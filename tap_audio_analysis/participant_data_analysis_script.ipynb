{
 "cells": [
  {
   "cell_type": "code",
   "execution_count": 133,
   "metadata": {},
   "outputs": [],
   "source": [
    "import pydub\n",
    "import numpy as np\n",
    "import matplotlib.pyplot as plt\n",
    "import os\n",
    "\n",
    "from dtaidistance import dtw\n",
    "from scipy.signal import argrelextrema, find_peaks\n",
    "from scipy.spatial.distance import cosine\n",
    "\n",
    "import pandas as pd\n",
    "import seaborn as sns"
   ]
  },
  {
   "cell_type": "code",
   "execution_count": 134,
   "metadata": {},
   "outputs": [],
   "source": [
    "SOUND_FRAME_RATE=40000"
   ]
  },
  {
   "cell_type": "markdown",
   "metadata": {},
   "source": [
    "## Playground"
   ]
  },
  {
   "cell_type": "code",
   "execution_count": 135,
   "metadata": {},
   "outputs": [],
   "source": [
    "def get_audio_sample(sound_addr):\n",
    "    sound = pydub.AudioSegment.from_file(sound_addr, format=sound_addr.split(\".\")[-1])\n",
    "    sound = sound.set_frame_rate(SOUND_FRAME_RATE)\n",
    "    samples = sound.get_array_of_samples()\n",
    "    audio_sample = np.array(samples)\n",
    "    return audio_sample"
   ]
  },
  {
   "cell_type": "code",
   "execution_count": 136,
   "metadata": {},
   "outputs": [],
   "source": [
    "def get_audio_prompt(sound_addr):\n",
    "    sound = pydub.AudioSegment.from_file(sound_addr, format=sound_addr.split(\".\")[-1])\n",
    "    sound = sound.set_frame_rate(SOUND_FRAME_RATE)\n",
    "    samples = sound.get_array_of_samples()\n",
    "    audio_sample = np.array(samples)[int(sound.frame_rate*(4/3)**2*8):]\n",
    "    return audio_sample"
   ]
  },
  {
   "cell_type": "markdown",
   "metadata": {},
   "source": [
    "## Scoring Procedure"
   ]
  },
  {
   "cell_type": "code",
   "execution_count": 137,
   "metadata": {},
   "outputs": [],
   "source": [
    "def master_scoring_procedure(participant_response, answer_addr):\n",
    "    participant_sample = get_audio_sample(participant_response)\n",
    "    answer_sample = get_audio_prompt(answer_addr)\n",
    "    \n",
    "    participant_signal = np.where(participant_sample > 0.1 * np.max(participant_sample), 1.0, 0)\n",
    "    participant_nonzero_indices = np.nonzero(participant_signal)[0]\n",
    "    participant_signal = participant_signal[participant_nonzero_indices[0]:participant_nonzero_indices[-1] + 1]\n",
    "    \n",
    "    answer_signal = np.where(answer_sample[:int(44100 * 4/3 * 8)] > 800, 1, 0)\n",
    "    answer_nonzero_indices = np.nonzero(answer_signal)[0]\n",
    "    answer_signal = answer_signal[answer_nonzero_indices[0]:answer_nonzero_indices[-1] + 1]\n",
    "    \n",
    "    participant_downsample = downsample_signal(participant_signal, 100)\n",
    "    true_sample_downsample = downsample_signal(answer_signal, 100)\n",
    "    return cosine(participant_downsample, true_sample_downsample)"
   ]
  },
  {
   "cell_type": "code",
   "execution_count": 138,
   "metadata": {},
   "outputs": [],
   "source": [
    "all_participants = os.listdir(\"./participant_data/\")\n",
    "scoring_basis_files = [\n",
    "    f\"../generated_beats/compiled_mp3/{file_name}\"\n",
    "    for file_name in os.listdir(\"../generated_beats/compiled_mp3/\")\n",
    "    if \"practice\" not in file_name\n",
    "]\n",
    "full_scoring_data = {\n",
    "    \"trial_source\": [],\n",
    "    \"signal_similarities\": [],\n",
    "    \"participant_ID\": []\n",
    "}\n",
    "for participant in all_participants[:]:\n",
    "    if participant == \"22-J-13-SUR\": continue\n",
    "    participant_response_addresses = {\n",
    "        file_name.split(\".\")[0]: f\"./participant_data/{participant}/{file_name}\"\n",
    "        for file_name in os.listdir(f\"./participant_data/{participant}/\")\n",
    "    }\n",
    "    scoring_file_addresses = {\n",
    "        \"night_1_trial_1\": scoring_basis_files[9],\n",
    "        \"night_1_trial_2\": scoring_basis_files[10],\n",
    "        \"night_1_trial_3\": scoring_basis_files[11],\n",
    "        \"night_2_trial_1\": scoring_basis_files[12],\n",
    "        \"night_2_trial_2\": scoring_basis_files[13],\n",
    "        \"night_2_trial_3\": scoring_basis_files[14],\n",
    "        \"night_3_trial_1\": scoring_basis_files[15],\n",
    "        \"night_3_trial_2\": scoring_basis_files[16],\n",
    "        \"night_3_trial_3\": scoring_basis_files[17],\n",
    "        \"morning_2_trial_1\": scoring_basis_files[3],\n",
    "        \"morning_2_trial_2\": scoring_basis_files[4],\n",
    "        \"morning_2_trial_3\": scoring_basis_files[5],\n",
    "        \"morning_3_trial_1\": scoring_basis_files[6],\n",
    "        \"morning_3_trial_2\": scoring_basis_files[7],\n",
    "        \"morning_3_trial_3\": scoring_basis_files[8]\n",
    "    }\n",
    "    if \"morning_1\" in list(participant_response_addresses.keys())[0]:\n",
    "        participant_response_addresses.update(\n",
    "            {\n",
    "                \"morning_2_trial_1\": participant_response_addresses.pop(\"morning_1_trial_1\"),\n",
    "                \"morning_2_trial_2\": participant_response_addresses.pop(\"morning_1_trial_2\"),\n",
    "                \"morning_2_trial_3\": participant_response_addresses.pop(\"morning_1_trial_3\"),\n",
    "                \"morning_3_trial_1\": participant_response_addresses[\"morning_2_trial_1\"],\n",
    "                \"morning_3_trial_2\": participant_response_addresses[\"morning_2_trial_2\"],\n",
    "                \"morning_3_trial_3\": participant_response_addresses[\"morning_2_trial_3\"]\n",
    "            }\n",
    "        )\n",
    "        scoring_file_addresses.update(\n",
    "            {\n",
    "                \"morning_2_trial_1\": scoring_basis_files[0],\n",
    "                \"morning_2_trial_2\": scoring_basis_files[1],\n",
    "                \"morning_2_trial_3\": scoring_basis_files[2],\n",
    "                \"morning_3_trial_1\": scoring_basis_files[3],\n",
    "                \"morning_3_trial_2\": scoring_basis_files[4],\n",
    "                \"morning_3_trial_3\": scoring_basis_files[5]\n",
    "            }\n",
    "        )\n",
    "    for trial_source in participant_response_addresses.keys():\n",
    "        full_scoring_data[\"participant_ID\"].append(participant)\n",
    "        full_scoring_data[\"trial_source\"].append(trial_source)\n",
    "        full_scoring_data[\"signal_similarities\"].append(\n",
    "            master_scoring_procedure(\n",
    "                participant_response_addresses[trial_source],\n",
    "                scoring_file_addresses[trial_source]\n",
    "            )\n",
    "        )"
   ]
  },
  {
   "cell_type": "code",
   "execution_count": 141,
   "metadata": {},
   "outputs": [
    {
     "data": {
      "text/plain": [
       "Text(0, 0.5, 'Cosine Similarity of Prompt and Participant Response')"
      ]
     },
     "execution_count": 141,
     "metadata": {},
     "output_type": "execute_result"
    },
    {
     "data": {
      "image/png": "[encoded data removed]",
      "text/plain": [
       "<Figure size 720x720 with 1 Axes>"
      ]
     },
     "metadata": {
      "needs_background": "light"
     },
     "output_type": "display_data"
    }
   ],
   "source": [
    "everyone_score = pd.DataFrame(data=full_scoring_data)\n",
    "everyone_score[\"trial_source_abbrev\"] = everyone_score[\"trial_source\"].apply(lambda x: x.split(\"_trial\")[0])\n",
    "fig, ax = plt.subplots(figsize=(10, 10))\n",
    "sns.boxplot(\n",
    "    data=everyone_score,\n",
    "    x=\"trial_source_abbrev\",\n",
    "    y=\"signal_similarities\",\n",
    "    order=[\"night_1\", \"morning_2\", \"night_2\", \"morning_3\", \"night_3\"],\n",
    "    palette=\"light:#5A9\"\n",
    ")\n",
    "plt.title(\"Boxplot Development of Performance on Rhythmic Short-Term Memory across Experiment Time\")\n",
    "plt.xlabel(\"Experiment Time\")\n",
    "plt.ylabel(\"Cosine Similarity of Prompt and Participant Response\")"
   ]
  },
  {
   "cell_type": "code",
   "execution_count": null,
   "metadata": {},
   "outputs": [],
   "source": []
  }
 ],
 "metadata": {
  "kernelspec": {
   "display_name": "Python 3",
   "language": "python",
   "name": "python3"
  },
  "language_info": {
   "codemirror_mode": {
    "name": "ipython",
    "version": 3
   },
   "file_extension": ".py",
   "mimetype": "text/x-python",
   "name": "python",
   "nbconvert_exporter": "python",
   "pygments_lexer": "ipython3",
   "version": "3.10.11"
  }
 },
 "nbformat": 4,
 "nbformat_minor": 2
}
