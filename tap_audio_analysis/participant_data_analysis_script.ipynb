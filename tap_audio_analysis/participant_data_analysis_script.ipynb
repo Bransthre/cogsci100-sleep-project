{
 "cells": [
  {
   "cell_type": "code",
   "execution_count": 1,
   "metadata": {},
   "outputs": [],
   "source": [
    "import pydub\n",
    "import numpy as np\n",
    "import matplotlib.pyplot as plt\n",
    "import os\n",
    "\n",
    "from dtaidistance import dtw\n",
    "from scipy.signal import argrelextrema, find_peaks\n",
    "from scipy.spatial.distance import cosine\n",
    "\n",
    "import pandas as pd\n",
    "import seaborn as sns"
   ]
  },
  {
   "cell_type": "code",
   "execution_count": 2,
   "metadata": {},
   "outputs": [],
   "source": [
    "SOUND_FRAME_RATE=40000"
   ]
  },
  {
   "cell_type": "markdown",
   "metadata": {},
   "source": [
    "## Playground"
   ]
  },
  {
   "cell_type": "code",
   "execution_count": 3,
   "metadata": {},
   "outputs": [],
   "source": [
    "def get_audio_sample(sound_addr):\n",
    "    sound = pydub.AudioSegment.from_file(sound_addr, format=sound_addr.split(\".\")[-1])\n",
    "    sound = sound.set_frame_rate(SOUND_FRAME_RATE)\n",
    "    samples = sound.get_array_of_samples()\n",
    "    audio_sample = np.array(samples)\n",
    "    return audio_sample"
   ]
  },
  {
   "cell_type": "code",
   "execution_count": 4,
   "metadata": {},
   "outputs": [],
   "source": [
    "def get_audio_prompt(sound_addr):\n",
    "    sound = pydub.AudioSegment.from_file(sound_addr, format=sound_addr.split(\".\")[-1])\n",
    "    sound = sound.set_frame_rate(SOUND_FRAME_RATE)\n",
    "    samples = sound.get_array_of_samples()\n",
    "    audio_sample = np.array(samples)[int(sound.frame_rate*(4/3)**2*8):]\n",
    "    return audio_sample"
   ]
  },
  {
   "cell_type": "code",
   "execution_count": 11,
   "metadata": {},
   "outputs": [],
   "source": [
    "def downsample_signal(signal, block_num):\n",
    "    resulting_signal = np.zeros(block_num + 1)\n",
    "    nonzero_indices = np.nonzero(signal)[0] // (len(signal) // block_num)\n",
    "    resulting_signal[nonzero_indices] = 1\n",
    "    return resulting_signal"
   ]
  },
  {
   "cell_type": "markdown",
   "metadata": {},
   "source": [
    "## Scoring Procedure"
   ]
  },
  {
   "cell_type": "code",
   "execution_count": 12,
   "metadata": {},
   "outputs": [],
   "source": [
    "def master_scoring_procedure(participant_response, answer_addr):\n",
    "    participant_sample = get_audio_sample(participant_response)\n",
    "    answer_sample = get_audio_prompt(answer_addr)\n",
    "    \n",
    "    participant_signal = np.where(participant_sample > 0.1 * np.max(participant_sample), 1.0, 0)\n",
    "    participant_nonzero_indices = np.nonzero(participant_signal)[0]\n",
    "    participant_signal = participant_signal[participant_nonzero_indices[0]:participant_nonzero_indices[-1] + 1]\n",
    "    \n",
    "    answer_signal = np.where(answer_sample[:int(44100 * 4/3 * 8)] > 800, 1, 0)\n",
    "    answer_nonzero_indices = np.nonzero(answer_signal)[0]\n",
    "    answer_signal = answer_signal[answer_nonzero_indices[0]:answer_nonzero_indices[-1] + 1]\n",
    "    \n",
    "    participant_downsample = downsample_signal(participant_signal, 100)\n",
    "    true_sample_downsample = downsample_signal(answer_signal, 100)\n",
    "    return cosine(participant_downsample, true_sample_downsample)"
   ]
  },
  {
   "cell_type": "code",
   "execution_count": 13,
   "metadata": {},
   "outputs": [],
   "source": [
    "all_participants = os.listdir(\"./participant_data/\")\n",
    "scoring_basis_files = [\n",
    "    f\"../generated_beats/compiled_mp3/{file_name}\"\n",
    "    for file_name in os.listdir(\"../generated_beats/compiled_mp3/\")\n",
    "    if \"practice\" not in file_name\n",
    "]\n",
    "full_scoring_data = {\n",
    "    \"trial_source\": [],\n",
    "    \"signal_similarities\": [],\n",
    "    \"participant_ID\": []\n",
    "}\n",
    "for participant in all_participants[:]:\n",
    "    if participant == \"22-J-13-SUR\": continue\n",
    "    participant_response_addresses = {\n",
    "        file_name.split(\".\")[0]: f\"./participant_data/{participant}/{file_name}\"\n",
    "        for file_name in os.listdir(f\"./participant_data/{participant}/\")\n",
    "    }\n",
    "    scoring_file_addresses = {\n",
    "        \"night_1_trial_1\": scoring_basis_files[9],\n",
    "        \"night_1_trial_2\": scoring_basis_files[10],\n",
    "        \"night_1_trial_3\": scoring_basis_files[11],\n",
    "        \"night_2_trial_1\": scoring_basis_files[12],\n",
    "        \"night_2_trial_2\": scoring_basis_files[13],\n",
    "        \"night_2_trial_3\": scoring_basis_files[14],\n",
    "        \"night_3_trial_1\": scoring_basis_files[15],\n",
    "        \"night_3_trial_2\": scoring_basis_files[16],\n",
    "        \"night_3_trial_3\": scoring_basis_files[17],\n",
    "        \"morning_2_trial_1\": scoring_basis_files[3],\n",
    "        \"morning_2_trial_2\": scoring_basis_files[4],\n",
    "        \"morning_2_trial_3\": scoring_basis_files[5],\n",
    "        \"morning_3_trial_1\": scoring_basis_files[6],\n",
    "        \"morning_3_trial_2\": scoring_basis_files[7],\n",
    "        \"morning_3_trial_3\": scoring_basis_files[8]\n",
    "    }\n",
    "    if \"morning_1\" in list(participant_response_addresses.keys())[0]:\n",
    "        participant_response_addresses.update(\n",
    "            {\n",
    "                \"morning_2_trial_1\": participant_response_addresses.pop(\"morning_1_trial_1\"),\n",
    "                \"morning_2_trial_2\": participant_response_addresses.pop(\"morning_1_trial_2\"),\n",
    "                \"morning_2_trial_3\": participant_response_addresses.pop(\"morning_1_trial_3\"),\n",
    "                \"morning_3_trial_1\": participant_response_addresses[\"morning_2_trial_1\"],\n",
    "                \"morning_3_trial_2\": participant_response_addresses[\"morning_2_trial_2\"],\n",
    "                \"morning_3_trial_3\": participant_response_addresses[\"morning_2_trial_3\"]\n",
    "            }\n",
    "        )\n",
    "        scoring_file_addresses.update(\n",
    "            {\n",
    "                \"morning_2_trial_1\": scoring_basis_files[0],\n",
    "                \"morning_2_trial_2\": scoring_basis_files[1],\n",
    "                \"morning_2_trial_3\": scoring_basis_files[2],\n",
    "                \"morning_3_trial_1\": scoring_basis_files[3],\n",
    "                \"morning_3_trial_2\": scoring_basis_files[4],\n",
    "                \"morning_3_trial_3\": scoring_basis_files[5]\n",
    "            }\n",
    "        )\n",
    "    for trial_source in participant_response_addresses.keys():\n",
    "        full_scoring_data[\"participant_ID\"].append(participant)\n",
    "        full_scoring_data[\"trial_source\"].append(trial_source)\n",
    "        full_scoring_data[\"signal_similarities\"].append(\n",
    "            master_scoring_procedure(\n",
    "                participant_response_addresses[trial_source],\n",
    "                scoring_file_addresses[trial_source]\n",
    "            )\n",
    "        )"
   ]
  },
  {
   "cell_type": "markdown",
   "metadata": {},
   "source": [
    "## Analysis Stage"
   ]
  },
  {
   "cell_type": "code",
   "execution_count": 61,
   "metadata": {},
   "outputs": [
    {
     "data": {
      "text/html": [
       "<div>\n",
       "<style scoped>\n",
       "    .dataframe tbody tr th:only-of-type {\n",
       "        vertical-align: middle;\n",
       "    }\n",
       "\n",
       "    .dataframe tbody tr th {\n",
       "        vertical-align: top;\n",
       "    }\n",
       "\n",
       "    .dataframe thead th {\n",
       "        text-align: right;\n",
       "    }\n",
       "</style>\n",
       "<table border=\"1\" class=\"dataframe\">\n",
       "  <thead>\n",
       "    <tr style=\"text-align: right;\">\n",
       "      <th></th>\n",
       "      <th>signal_similarities</th>\n",
       "      <th>c1</th>\n",
       "      <th>c2</th>\n",
       "      <th>c3</th>\n",
       "      <th>c4</th>\n",
       "      <th>c5</th>\n",
       "      <th>c6</th>\n",
       "      <th>c7</th>\n",
       "      <th>PSQI</th>\n",
       "    </tr>\n",
       "  </thead>\n",
       "  <tbody>\n",
       "    <tr>\n",
       "      <th>0</th>\n",
       "      <td>0.716062</td>\n",
       "      <td>0.017207</td>\n",
       "      <td>3.004209</td>\n",
       "      <td>0.002463</td>\n",
       "      <td>3.001978</td>\n",
       "      <td>3.005502</td>\n",
       "      <td>-0.005067</td>\n",
       "      <td>1.016783</td>\n",
       "      <td>10.001994</td>\n",
       "    </tr>\n",
       "    <tr>\n",
       "      <th>1</th>\n",
       "      <td>0.445616</td>\n",
       "      <td>-0.018896</td>\n",
       "      <td>2.995264</td>\n",
       "      <td>-0.004434</td>\n",
       "      <td>2.987354</td>\n",
       "      <td>2.998877</td>\n",
       "      <td>0.001247</td>\n",
       "      <td>1.006047</td>\n",
       "      <td>9.989638</td>\n",
       "    </tr>\n",
       "    <tr>\n",
       "      <th>2</th>\n",
       "      <td>0.805749</td>\n",
       "      <td>0.015305</td>\n",
       "      <td>2.988332</td>\n",
       "      <td>0.013694</td>\n",
       "      <td>2.995816</td>\n",
       "      <td>2.990905</td>\n",
       "      <td>0.007260</td>\n",
       "      <td>1.000869</td>\n",
       "      <td>10.010227</td>\n",
       "    </tr>\n",
       "    <tr>\n",
       "      <th>15</th>\n",
       "      <td>0.825086</td>\n",
       "      <td>0.978879</td>\n",
       "      <td>0.994964</td>\n",
       "      <td>1.013988</td>\n",
       "      <td>2.995684</td>\n",
       "      <td>2.995586</td>\n",
       "      <td>0.009917</td>\n",
       "      <td>1.018896</td>\n",
       "      <td>9.980120</td>\n",
       "    </tr>\n",
       "    <tr>\n",
       "      <th>16</th>\n",
       "      <td>0.815175</td>\n",
       "      <td>1.000189</td>\n",
       "      <td>0.995119</td>\n",
       "      <td>1.010713</td>\n",
       "      <td>3.004663</td>\n",
       "      <td>3.004497</td>\n",
       "      <td>-0.004430</td>\n",
       "      <td>1.014929</td>\n",
       "      <td>9.995760</td>\n",
       "    </tr>\n",
       "  </tbody>\n",
       "</table>\n",
       "</div>"
      ],
      "text/plain": [
       "    signal_similarities        c1        c2        c3        c4        c5  \\\n",
       "0              0.716062  0.017207  3.004209  0.002463  3.001978  3.005502   \n",
       "1              0.445616 -0.018896  2.995264 -0.004434  2.987354  2.998877   \n",
       "2              0.805749  0.015305  2.988332  0.013694  2.995816  2.990905   \n",
       "15             0.825086  0.978879  0.994964  1.013988  2.995684  2.995586   \n",
       "16             0.815175  1.000189  0.995119  1.010713  3.004663  3.004497   \n",
       "\n",
       "          c6        c7       PSQI  \n",
       "0  -0.005067  1.016783  10.001994  \n",
       "1   0.001247  1.006047   9.989638  \n",
       "2   0.007260  1.000869  10.010227  \n",
       "15  0.009917  1.018896   9.980120  \n",
       "16 -0.004430  1.014929   9.995760  "
      ]
     },
     "execution_count": 61,
     "metadata": {},
     "output_type": "execute_result"
    }
   ],
   "source": [
    "everyone_score = pd.DataFrame(data=full_scoring_data)\n",
    "everyone_score[\"trial_source_abbrev\"] = everyone_score[\"trial_source\"].apply(lambda x: x.split(\"_trial\")[0])\n",
    "PSQI_responses = pd.read_csv(\"../PSQI/exported-PSQI.csv\")\n",
    "everyone_score_With_PSQI = everyone_score.merge(\n",
    "    right=PSQI_responses,\n",
    "    left_on=\"participant_ID\",\n",
    "    right_on=\"participant_ID\"\n",
    ").query(\"trial_source_abbrev=='morning_2'\")\n",
    "everyone_score_With_PSQI = everyone_score_With_PSQI.drop(\n",
    "    columns=[\"trial_source\", \"trial_source_abbrev\", \"participant_ID\", \"Unnamed: 0\"]\n",
    ")\n",
    "everyone_score_With_PSQI = everyone_score_With_PSQI + np.random.normal(0, 0.01, everyone_score_With_PSQI.shape)\n",
    "everyone_score_With_PSQI.head()"
   ]
  },
  {
   "cell_type": "code",
   "execution_count": 67,
   "metadata": {},
   "outputs": [
    {
     "data": {
      "text/plain": [
       "Text(0.5, 1.0, 'Correlation Matrix between PSQI Subcomponent Scores on Form B with Rhythm Task Performance on Morning 2')"
      ]
     },
     "execution_count": 67,
     "metadata": {},
     "output_type": "execute_result"
    },
    {
     "data": {
      "image/png": "[encoded data removed]",
      "text/plain": [
       "<Figure size 720x576 with 2 Axes>"
      ]
     },
     "metadata": {
      "needs_background": "light"
     },
     "output_type": "display_data"
    }
   ],
   "source": [
    "fig, ax = plt.subplots(figsize=(10, 8))\n",
    "sns.heatmap(\n",
    "    everyone_score_With_PSQI.corr()\n",
    ")\n",
    "plt_title = \"Correlation Matrix between PSQI Subcomponent Scores on Form B with Rhythm Task Performance on Morning 2\"\n",
    "ax.set_title(plt_title, pad=20)"
   ]
  },
  {
   "cell_type": "code",
   "execution_count": 14,
   "metadata": {},
   "outputs": [
    {
     "data": {
      "text/plain": [
       "Text(0, 0.5, 'Cosine Similarity of Prompt and Participant Response')"
      ]
     },
     "execution_count": 14,
     "metadata": {},
     "output_type": "execute_result"
    },
    {
     "data": {
      "image/png": "[encoded data removed]",
      "text/plain": [
       "<Figure size 720x720 with 1 Axes>"
      ]
     },
     "metadata": {
      "needs_background": "light"
     },
     "output_type": "display_data"
    }
   ],
   "source": [
    "fig, ax = plt.subplots(figsize=(10, 10))\n",
    "sns.boxplot(\n",
    "    data=everyone_score,\n",
    "    x=\"trial_source_abbrev\",\n",
    "    y=\"signal_similarities\",\n",
    "    order=[\"night_1\", \"morning_2\", \"night_2\", \"morning_3\", \"night_3\"],\n",
    "    palette=\"light:#5A9\"\n",
    ")\n",
    "plt.title(\"Boxplot Development of Performance on Rhythmic Short-Term Memory across Experiment Time\")\n",
    "plt.xlabel(\"Experiment Time\")\n",
    "plt.ylabel(\"Cosine Similarity of Prompt and Participant Response\")"
   ]
  },
  {
   "cell_type": "code",
   "execution_count": null,
   "metadata": {},
   "outputs": [],
   "source": []
  }
 ],
 "metadata": {
  "kernelspec": {
   "display_name": "Python 3",
   "language": "python",
   "name": "python3"
  },
  "language_info": {
   "codemirror_mode": {
    "name": "ipython",
    "version": 3
   },
   "file_extension": ".py",
   "mimetype": "text/x-python",
   "name": "python",
   "nbconvert_exporter": "python",
   "pygments_lexer": "ipython3",
   "version": "3.10.11"
  }
 },
 "nbformat": 4,
 "nbformat_minor": 2
}
