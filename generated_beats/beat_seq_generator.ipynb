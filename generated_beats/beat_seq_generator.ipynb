{
 "cells": [
  {
   "cell_type": "code",
   "execution_count": 1,
   "metadata": {},
   "outputs": [],
   "source": [
    "from music21 import *\n",
    "import random"
   ]
  },
  {
   "cell_type": "code",
   "execution_count": 2,
   "metadata": {},
   "outputs": [],
   "source": [
    "def generate_custom_rhythm(time_signature, bpm, num_beats):\n",
    "    # Create a stream object with the given time signature\n",
    "    ts = meter.TimeSignature(time_signature)\n",
    "    rhythm_stream = stream.Stream()\n",
    "    rhythm_stream.append(ts)\n",
    "\n",
    "    # Set the tempo in beats per minute\n",
    "    rhythm_stream.insert(0, tempo.MetronomeMark(number=bpm))\n",
    "\n",
    "    # Define possible note durations for the main beat\n",
    "    durations = [duration.Duration(1), duration.Duration(1/2), duration.Duration(1/4)]\n",
    "\n",
    "    # Calculate the total duration of the bar\n",
    "    total_duration =  int(time_signature.split('/')[0]) * (4.0 / int(time_signature.split('/')[1]))  # Adjusting the bar length based on the time signature \n",
    "    \n",
    "    # Generate a random rhythm pattern for the specified number of beats (excluding metronome clicks)\n",
    "    metronome_clicks = int(time_signature.split('/')[0])\n",
    "    played_beats = 0\n",
    "    for i in range(metronome_clicks + num_beats):\n",
    "        if i < metronome_clicks:\n",
    "            metronome_sound = note.Note(\"G6\")\n",
    "            metronome_sound.duration = duration.Duration(60.0 / bpm)   # Adjust the duration to match the BPM\n",
    "            rhythm_stream.append(metronome_sound)\n",
    "        else:\n",
    "            if played_beats < num_beats:\n",
    "                duration_choice = random.choice(durations)\n",
    "                rhythm_note = note.Note(\"C4\")\n",
    "                if played_beats == num_beats - 1:\n",
    "                    # Adjust the last note's duration to fit the remaining time in the bar\n",
    "                    remaining_duration = total_duration - rhythm_note.duration.quarterLength\n",
    "                    rhythm_note.duration = duration.Duration(remaining_duration)\n",
    "                else:\n",
    "                    rhythm_note.duration = duration_choice\n",
    "                rhythm_stream.append(rhythm_note)\n",
    "                played_beats += 1\n",
    "\n",
    "    return rhythm_stream"
   ]
  },
  {
   "cell_type": "code",
   "execution_count": 3,
   "metadata": {},
   "outputs": [],
   "source": [
    "def generate_one_beat(midi_file_addr):\n",
    "    user_time_signature = \"4/4\"\n",
    "    user_bpm = 45\n",
    "    num_beats = 8\n",
    "\n",
    "    # Create a part for the rhythm\n",
    "    rhythm_part = stream.Part()\n",
    "\n",
    "    generated_rhythm = generate_custom_rhythm(user_time_signature, user_bpm, num_beats)\n",
    "    rhythm_measure = stream.Measure()\n",
    "    rhythm_measure.append(generated_rhythm)\n",
    "    rhythm_part.append(rhythm_measure)\n",
    "\n",
    "    # Create a MIDI file from the rhythm part\n",
    "    mf = midi.translate.streamToMidiFile(rhythm_part)\n",
    "    mf.open(midi_file_addr, \"wb\")\n",
    "    mf.write()\n",
    "    mf.close()"
   ]
  },
  {
   "cell_type": "code",
   "execution_count": 4,
   "metadata": {},
   "outputs": [],
   "source": [
    "midi_practice_suffixes = [\n",
    "    f\"_night_{i}_practice_{j}\"\n",
    "    for i in range(1, 4)\n",
    "    for j in range(1, 4)\n",
    "]\n",
    "midi_practice_suffixes += [\n",
    "    f\"_day_{i}_practice_1\"\n",
    "    for i in range(1, 4)\n",
    "]\n",
    "midi_trial_suffixes = [\n",
    "    f\"_{time_of_day}_{i}_trial{j}\"\n",
    "    for i in range(1, 4)\n",
    "    for j in range(1, 4)\n",
    "    for time_of_day in [\"morning\", \"night\"]\n",
    "]"
   ]
  },
  {
   "cell_type": "code",
   "execution_count": 5,
   "metadata": {},
   "outputs": [],
   "source": [
    "random.seed(42)\n",
    "\n",
    "for file_suffix in (midi_practice_suffixes + midi_trial_suffixes):\n",
    "    midi_input_name = f\"./midi_sources/recreate_beats-{file_suffix}.midi\"\n",
    "    generate_one_beat(midi_input_name)"
   ]
  }
 ],
 "metadata": {
  "kernelspec": {
   "display_name": "Python 3",
   "language": "python",
   "name": "python3"
  },
  "language_info": {
   "codemirror_mode": {
    "name": "ipython",
    "version": 3
   },
   "file_extension": ".py",
   "mimetype": "text/x-python",
   "name": "python",
   "nbconvert_exporter": "python",
   "pygments_lexer": "ipython3",
   "version": "3.10.11"
  }
 },
 "nbformat": 4,
 "nbformat_minor": 2
}
