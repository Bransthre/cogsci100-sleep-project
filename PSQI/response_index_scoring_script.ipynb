{
 "cells": [
  {
   "cell_type": "code",
   "execution_count": 1,
   "metadata": {},
   "outputs": [],
   "source": [
    "import pandas as pd\n",
    "import numpy as np"
   ]
  },
  {
   "cell_type": "markdown",
   "metadata": {},
   "source": [
    "Please reference [this link](https://www.goodmedicine.org.uk/files/assessment,%20pittsburgh%20psqi.pdf) for scoring details."
   ]
  },
  {
   "cell_type": "markdown",
   "metadata": {},
   "source": [
    "## Response Scoring Example"
   ]
  },
  {
   "cell_type": "markdown",
   "metadata": {},
   "source": [
    "### Form A"
   ]
  },
  {
   "cell_type": "markdown",
   "metadata": {},
   "source": [
    "Example data:"
   ]
  },
  {
   "cell_type": "code",
   "execution_count": 13,
   "metadata": {},
   "outputs": [
    {
     "data": {
      "text/html": [
       "<div>\n",
       "<style scoped>\n",
       "    .dataframe tbody tr th:only-of-type {\n",
       "        vertical-align: middle;\n",
       "    }\n",
       "\n",
       "    .dataframe tbody tr th {\n",
       "        vertical-align: top;\n",
       "    }\n",
       "\n",
       "    .dataframe thead th {\n",
       "        text-align: right;\n",
       "    }\n",
       "</style>\n",
       "<table border=\"1\" class=\"dataframe\">\n",
       "  <thead>\n",
       "    <tr style=\"text-align: right;\">\n",
       "      <th></th>\n",
       "      <th>timestamp</th>\n",
       "      <th>participant_ID</th>\n",
       "      <th>participant_gender</th>\n",
       "      <th>participant_age</th>\n",
       "      <th>participant_occupation</th>\n",
       "      <th>q1</th>\n",
       "      <th>q2</th>\n",
       "      <th>q3</th>\n",
       "      <th>q4</th>\n",
       "      <th>q5a</th>\n",
       "      <th>...</th>\n",
       "      <th>q5f</th>\n",
       "      <th>q5g</th>\n",
       "      <th>q5h</th>\n",
       "      <th>q5i</th>\n",
       "      <th>q5j</th>\n",
       "      <th>q5_freq</th>\n",
       "      <th>q6</th>\n",
       "      <th>q7</th>\n",
       "      <th>q8</th>\n",
       "      <th>q9</th>\n",
       "    </tr>\n",
       "  </thead>\n",
       "  <tbody>\n",
       "    <tr>\n",
       "      <th>0</th>\n",
       "      <td>10/19/2023 16:21:11</td>\n",
       "      <td>22-T-09-JKT</td>\n",
       "      <td>Female</td>\n",
       "      <td>20</td>\n",
       "      <td>Undergraduate Student</td>\n",
       "      <td>1:00:00 AM</td>\n",
       "      <td>20</td>\n",
       "      <td>9:00:00 AM</td>\n",
       "      <td>6</td>\n",
       "      <td>Once or twice a week</td>\n",
       "      <td>...</td>\n",
       "      <td>Not during the past month</td>\n",
       "      <td>Not during the past month</td>\n",
       "      <td>Less than once a week</td>\n",
       "      <td>Once or twice a week</td>\n",
       "      <td>NaN</td>\n",
       "      <td>NaN</td>\n",
       "      <td>Fairly good</td>\n",
       "      <td>Not during the past month</td>\n",
       "      <td>Less than once a week</td>\n",
       "      <td>Only a very slight problem</td>\n",
       "    </tr>\n",
       "  </tbody>\n",
       "</table>\n",
       "<p>1 rows × 24 columns</p>\n",
       "</div>"
      ],
      "text/plain": [
       "             timestamp participant_ID participant_gender  participant_age  \\\n",
       "0  10/19/2023 16:21:11    22-T-09-JKT             Female               20   \n",
       "\n",
       "  participant_occupation          q1  q2          q3 q4                   q5a  \\\n",
       "0  Undergraduate Student  1:00:00 AM  20  9:00:00 AM  6  Once or twice a week   \n",
       "\n",
       "   ...                        q5f                        q5g  \\\n",
       "0  ...  Not during the past month  Not during the past month   \n",
       "\n",
       "                     q5h                   q5i  q5j q5_freq           q6  \\\n",
       "0  Less than once a week  Once or twice a week  NaN     NaN  Fairly good   \n",
       "\n",
       "                          q7                     q8  \\\n",
       "0  Not during the past month  Less than once a week   \n",
       "\n",
       "                           q9  \n",
       "0  Only a very slight problem  \n",
       "\n",
       "[1 rows x 24 columns]"
      ]
     },
     "execution_count": 13,
     "metadata": {},
     "output_type": "execute_result"
    }
   ],
   "source": [
    "example_response_data = pd.read_csv(\"./responses/form_a_example_responses.csv\")\n",
    "example_response_data = example_response_data.set_axis(\n",
    "    [\n",
    "        \"timestamp\", \"participant_ID\", \"participant_gender\", \"participant_age\", \"participant_occupation\",\n",
    "        \"q1\", \"q2\", \"q3\", \"q4\", \"q5a\", \"q5b\", \"q5c\", \"q5d\", \"q5e\", \"q5f\", \"q5g\", \"q5h\", \"q5i\", \"q5j_text\", \"q5j_freq\",\n",
    "        \"q6\", \"q7\", \"q8\", \"q9\"\n",
    "    ],\n",
    "    axis=1\n",
    ")\n",
    "example_response_data.head(1)"
   ]
  },
  {
   "cell_type": "markdown",
   "metadata": {},
   "source": [
    "#### Component Score Computation"
   ]
  },
  {
   "cell_type": "code",
   "execution_count": 9,
   "metadata": {},
   "outputs": [],
   "source": [
    "def get_component_1(response_df, categorical_map):\n",
    "    return response_df[\"q6\"].replace(categorical_map[\"q6\"])"
   ]
  },
  {
   "cell_type": "code",
   "execution_count": 10,
   "metadata": {},
   "outputs": [],
   "source": [
    "def get_component_2(response_df, categorical_map):\n",
    "    def process_q2(num):\n",
    "        assert num >= 0, \"q2 response must be nonnegative\"\n",
    "        if num <= 30:\n",
    "            return num // 15\n",
    "        else:\n",
    "            return min(2, num // 30) + 1\n",
    "    q5a_numerical = response_df[\"q5a\"].replace(categorical_map[\"q5\"])\n",
    "    sum_of_parts = q5a_numerical + response_df[\"q2\"].apply(process_q2)\n",
    "    return sum_of_parts.apply(lambda x: min(3, (x + 1) // 2))"
   ]
  },
  {
   "cell_type": "code",
   "execution_count": 11,
   "metadata": {},
   "outputs": [],
   "source": [
    "def get_component_3(response_df, categorical_map):\n",
    "    def process_q3(num):\n",
    "        if num > 7: return 0\n",
    "        elif 6 <= num <= 7: return 1\n",
    "        elif 5 <= num < 6: return 2\n",
    "        else: return 3\n",
    "    return response_df[\"q3\"].apply(process_q3)"
   ]
  },
  {
   "cell_type": "code",
   "execution_count": 21,
   "metadata": {},
   "outputs": [],
   "source": [
    "def get_component_4(response_df, categorical_map):\n",
    "    def intify_time_str(time_str):\n",
    "        split_time_str = time_str[:time_str.index(\" \")].split(\":\")\n",
    "        return int(split_time_str[0]) * 60 ** 2 + int(split_time_str[1]) * 60 + split_time_str[2]\n",
    "        \n",
    "    def get_time_difference(period_start, period_end):\n",
    "        time_start, time_end = intify_time_str(period_start), intify_time_str(period_end)\n",
    "        if time_end < time_start:\n",
    "            return time_end + 24 * 60 ** 2 - time_start\n",
    "        else:\n",
    "            return time_start - time_end\n",
    "    \n",
    "    def efficiency_to_score(eff):\n",
    "        if eff > 0.85: return 0\n",
    "        elif 0.75 <= eff <= 0.85: return 1\n",
    "        elif 0.65 <= eff < 0.75: return 2\n",
    "        else: return 3\n",
    "    \n",
    "    time_slept = response_df[\"q4\"].apply(intify_time_str)\n",
    "    time_on_bed = pd.Series(\n",
    "        [\n",
    "            get_time_difference(interval_start, interval_end)\n",
    "            for interval_start, interval_end in zip(response_df[\"q1\"], response_df[\"q3\"])\n",
    "        ]\n",
    "    )\n",
    "    habitual_sleep_efficiency = time_slept / time_on_bed\n",
    "    return habitual_sleep_efficiency.apply(efficiency_to_score)"
   ]
  },
  {
   "cell_type": "code",
   "execution_count": 22,
   "metadata": {},
   "outputs": [],
   "source": [
    "def get_component_5(response_df, categorical_map):\n",
    "    def sum_component_score_map(score):\n",
    "        return min(3, (score + 1) // 9)\n",
    "        \n",
    "    numerical_responses_q5 = [\n",
    "        response_df[q5_subpart].replace(categorical_map[\"q5\"])\n",
    "        for q5_subpart in [\"q5b\", \"q5c\", \"q5d\", \"q5e\", \"q5f\", \"q5g\", \"q5h\", \"q5i\", \"q5j_freq\"]\n",
    "    ]\n",
    "    sum_of_q5_subparts = np.sum(numerical_responses_q5)\n",
    "    return sum_of_q5_subparts.apply(sum_component_score_map)"
   ]
  },
  {
   "cell_type": "code",
   "execution_count": 23,
   "metadata": {},
   "outputs": [],
   "source": [
    "def get_component_6(response_df, categorical_map):\n",
    "    return response_df[\"q7\"].replace(categorical_map[\"q7\"])"
   ]
  },
  {
   "cell_type": "code",
   "execution_count": 24,
   "metadata": {},
   "outputs": [],
   "source": [
    "def get_component_7(response_df, categorical_map):\n",
    "    q8_numerical = response_df[\"q8\"].replace(categorical_map[\"q8\"])\n",
    "    q9_numerical = response_df[\"q8\"].replace(categorical_map[\"q9\"])\n",
    "    sum_of_parts = q8_numerical + q9_numerical\n",
    "    return sum_of_parts.apply(lambda x: min(3, (x + 1) // 2))"
   ]
  },
  {
   "cell_type": "markdown",
   "metadata": {},
   "source": [
    "#### Data Cleaning"
   ]
  }
 ],
 "metadata": {
  "kernelspec": {
   "display_name": "Python 3",
   "language": "python",
   "name": "python3"
  },
  "language_info": {
   "codemirror_mode": {
    "name": "ipython",
    "version": 3
   },
   "file_extension": ".py",
   "mimetype": "text/x-python",
   "name": "python",
   "nbconvert_exporter": "python",
   "pygments_lexer": "ipython3",
   "version": "3.10.11"
  }
 },
 "nbformat": 4,
 "nbformat_minor": 2
}
